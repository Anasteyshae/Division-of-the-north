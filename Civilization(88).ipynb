{
 "cells": [
  {
   "cell_type": "markdown",
   "metadata": {
    "id": "5IvmYMSvmnS2"
   },
   "source": [
    "Загружаем нужные библиотеки:"
   ]
  },
  {
   "cell_type": "code",
   "execution_count": 2,
   "metadata": {
    "id": "ccXYhbyECxt5"
   },
   "outputs": [],
   "source": [
    "import geopandas as gpd\n",
    "import numpy as np\n",
    "from shapely.geometry import Polygon, Point\n",
    "import folium\n",
    "import os\n",
    "import pandas as pd\n",
    "from IPython.display import display, HTML\n",
    "from sklearn.ensemble import RandomForestClassifier\n",
    "from sklearn.preprocessing import StandardScaler\n",
    "from sklearn.cluster import KMeans\n",
    "from sklearn.model_selection import train_test_split, GridSearchCV\n",
    "from sklearn.metrics import classification_report\n",
    "import matplotlib.pyplot as plt\n",
    "from matplotlib.colors import LinearSegmentedColormap\n",
    "from functools import partial"
   ]
  },
  {
   "cell_type": "markdown",
   "metadata": {
    "id": "W0IH7SOuLyME"
   },
   "source": [
    "##Шаг 1. Подготовка данных\n",
    "Разархивировать и просмотреть все исходные данные.\n",
    "\n",
    "Загрузить геоданные (GeoJSON)\n",
    "\n",
    "Убедиться, что все данные имеют правильные координаты и геометрии."
   ]
  },
  {
   "cell_type": "markdown",
   "metadata": {
    "id": "XLrUTrpBMKvw"
   },
   "source": [
    "##Загрузка слоёв:"
   ]
  },
  {
   "cell_type": "markdown",
   "metadata": {
    "id": "2Lr9D8LloOKt"
   },
   "source": [
    "*чтобы путь был универсальным(глобальным) создан репозиторий, а в нем папка (data) с файлами с данными"
   ]
  },
  {
   "cell_type": "markdown",
   "metadata": {
    "id": "2kfWzW-8opon"
   },
   "source": [
    "Создаем словарь, присваивая ссылке на файл(пути) имя переменной"
   ]
  },
  {
   "cell_type": "code",
   "execution_count": 3,
   "metadata": {
    "colab": {
     "base_uri": "https://localhost:8080/"
    },
    "id": "3qhTjL8-lAU8",
    "outputId": "357f2f5f-c212-4c4f-85cf-0a8ea6f96071"
   },
   "outputs": [
    {
     "name": "stderr",
     "output_type": "stream",
     "text": [
      "c:\\Users\\smirn\\anaconda3\\Lib\\site-packages\\pyogrio\\raw.py:198: RuntimeWarning: Several features with id = 1753 have been found. Altering it to be unique. This warning will not be emitted anymore for this layer\n",
      "  return ogr_read(\n"
     ]
    }
   ],
   "source": [
    "geojson_urls = {\n",
    "    \"region_gdf\": \"https://raw.githubusercontent.com/vetochka12345/civilization-8/main/data/arhangelskaya_oblast.geojson\",\n",
    "    \"people_gdf\": \"https://raw.githubusercontent.com/vetochka12345/civilization-8/main/data/base_obl_people.geojson\",\n",
    "    \"people_3000_gdf\": \"https://raw.githubusercontent.com/vetochka12345/civilization-8/main/data/base_obl_people_3000.geojson\",\n",
    "    \"buildings_gdf\": \"https://raw.githubusercontent.com/vetochka12345/civilization-8/main/data/buildings.geojson\",\n",
    "    \"roads_bad_gdf\": \"https://raw.githubusercontent.com/vetochka12345/civilization-8/main/data/mun_obr_all_bad.geojson\",\n",
    "    \"arctic_municipalities_gdf\": \"https://raw.githubusercontent.com/vetochka12345/civilization-8/main/data/mun_obr_arctic.geojson\",\n",
    "    \"education_gdf\": \"https://raw.githubusercontent.com/vetochka12345/civilization-8/main/data/objects_education.geojson\",\n",
    "    \"tourism_gdf\": \"https://raw.githubusercontent.com/vetochka12345/civilization-8/main/data/objects_tourism.geojson\",\n",
    "    \"zdrav_gdf\": \"https://raw.githubusercontent.com/vetochka12345/civilization-8/main/data/objects_zdrav.geojson\",\n",
    "    \"slow_roads_gdf\": \"https://raw.githubusercontent.com/vetochka12345/civilization-8/main/data/slow_roads_lines.geojson\"\n",
    "}\n",
    "\n",
    "gdfs = {}\n",
    "\n",
    "for name, url in geojson_urls.items():\n",
    "  gdfs[name] = gpd.read_file(url)"
   ]
  },
  {
   "cell_type": "markdown",
   "metadata": {
    "id": "TsYk6Ux47JPX"
   },
   "source": [
    "чтобы было удобнее заменим gdfs[name] на более короткую переменную"
   ]
  },
  {
   "cell_type": "code",
   "execution_count": 4,
   "metadata": {
    "id": "SaoWmrLB7I6x"
   },
   "outputs": [],
   "source": [
    "region=gdfs['region_gdf']\n",
    "people=gdfs[\"people_gdf\"]\n",
    "people_3000=gdfs['people_3000_gdf']\n",
    "buildings=gdfs['buildings_gdf']\n",
    "roads_bad=gdfs['roads_bad_gdf']\n",
    "arctic_municipalities=gdfs['arctic_municipalities_gdf']\n",
    "education=gdfs['education_gdf']\n",
    "tourism=gdfs['tourism_gdf']\n",
    "zdrav=gdfs['zdrav_gdf']\n",
    "slow_roads=gdfs['slow_roads_gdf']\n"
   ]
  },
  {
   "cell_type": "markdown",
   "metadata": {
    "id": "Q93ZoKx54Kwr"
   },
   "source": [
    "Соединим people в один df при условии одинаковой сис-мы к-т"
   ]
  },
  {
   "cell_type": "code",
   "execution_count": 5,
   "metadata": {
    "id": "s8m0rRpj4JrH"
   },
   "outputs": [],
   "source": [
    "people[\"people\"] = 0  #т.к. в файле people нет столбца с числ-тью населения, а в people_3000 есть, добавим этот столбец со значением 0(поскольку нам ничего не известно)\n",
    "if people.crs != people_3000.crs:\n",
    "    people_3000 = people_3000.to_crs(people.crs)\n",
    "\n",
    "population = pd.concat([people, people_3000], ignore_index=True)"
   ]
  },
  {
   "cell_type": "markdown",
   "metadata": {
    "id": "-tb2HRxTj3l2"
   },
   "source": [
    "Список слоёв:"
   ]
  },
  {
   "cell_type": "code",
   "execution_count": 6,
   "metadata": {
    "id": "BlSbpKLHj0ln"
   },
   "outputs": [],
   "source": [
    "geo_vars = ['region', 'population', 'buildings', 'roads_bad',\n",
    "            'arctic_municipalities', 'education', 'tourism', 'zdrav', 'slow_roads']"
   ]
  },
  {
   "cell_type": "code",
   "execution_count": 7,
   "metadata": {
    "colab": {
     "base_uri": "https://localhost:8080/"
    },
    "id": "XGuoxzYNoF0D",
    "outputId": "b7d80a4b-2039-4236-fdd6-82baee6b5e9f"
   },
   "outputs": [
    {
     "name": "stderr",
     "output_type": "stream",
     "text": [
      "C:\\Users\\smirn\\AppData\\Local\\Temp\\ipykernel_5336\\1413864090.py:1: DeprecationWarning: The 'unary_union' attribute is deprecated, use the 'union_all()' method instead.\n",
      "  region_shape = region.unary_union  #объединяем в одну геометрию\n"
     ]
    },
    {
     "name": "stdout",
     "output_type": "stream",
     "text": [
      "Удаление объектов вне границ региона:\n",
      "\n",
      "region: удалено 0\n",
      "population: удалено 786\n",
      "buildings: удалено 0\n",
      "roads_bad: удалено 61\n",
      "arctic_municipalities: удалено 64\n",
      "education: удалено 0\n",
      "tourism: удалено 0\n",
      "zdrav: удалено 0\n",
      "slow_roads: удалено 0\n"
     ]
    }
   ],
   "source": [
    "region_shape = region.unary_union  #объединяем в одну геометрию\n",
    "\n",
    "print(\"Удаление объектов вне границ региона:\\n\")\n",
    "\n",
    "for name in geo_vars:\n",
    "    if name not in globals():\n",
    "        print(f\"{name}: переменная не найдена\")\n",
    "        continue\n",
    "\n",
    "    inshape = globals()[name]\n",
    "\n",
    "    if \"geometry\" not in inshape.columns:\n",
    "        print(f\"{name}: отсутствует геометрия\")\n",
    "        continue\n",
    "\n",
    "    before = len(inshape)\n",
    "    #оставляем объекты, которые находятся внутри или пересекаются с регионом\n",
    "    inshape = inshape[inshape.geometry.intersects(region_shape)]\n",
    "    after = len(inshape)\n",
    "\n",
    "    globals()[name] = inshape\n",
    "\n",
    "    print(f\"{name}: удалено {before - after}\")\n"
   ]
  },
  {
   "cell_type": "markdown",
   "metadata": {
    "id": "inoC3ijv-Lr5"
   },
   "source": [
    "##Проверка данных"
   ]
  },
  {
   "cell_type": "markdown",
   "metadata": {
    "id": "wFlqB0Y-froF"
   },
   "source": [
    "**Проверка crs:**"
   ]
  },
  {
   "cell_type": "code",
   "execution_count": 8,
   "metadata": {
    "colab": {
     "base_uri": "https://localhost:8080/"
    },
    "id": "KsiWdVWa-5nN",
    "outputId": "07eb93a5-17b9-4c34-8ebc-e1221e60fb5d"
   },
   "outputs": [
    {
     "name": "stdout",
     "output_type": "stream",
     "text": [
      "Везде нужная CRS: EPSG:3857\n"
     ]
    }
   ],
   "source": [
    "incorrect_crs_report = []\n",
    "\n",
    "base_crs=region.crs\n",
    "\n",
    "for var_name in geo_vars:\n",
    "    gdf = locals()[var_name]\n",
    "    if gdf.crs != base_crs:\n",
    "        incorrect_crs_report.append((var_name, gdf.crs))  # сохраняем имя и старую CRS\n",
    "        locals()[var_name] = gdf.to_crs(base_crs) # перепроецируем\n",
    "\n",
    "if incorrect_crs_report:\n",
    "    print(\"Перепроецированы в CRS\", base_crs)\n",
    "    for name, old_crs in incorrect_crs_report:\n",
    "        print(f\"- {name}: было {old_crs}\")\n",
    "else:\n",
    "    print(\"Везде нужная CRS:\", base_crs)"
   ]
  },
  {
   "cell_type": "markdown",
   "metadata": {
    "id": "WMEhlbkUfxk0"
   },
   "source": [
    "**Проверка геометрии**"
   ]
  },
  {
   "cell_type": "markdown",
   "metadata": {
    "id": "zelHPIJH3PJR"
   },
   "source": [
    "Удаление пустых геометрий и исправление невалидных"
   ]
  },
  {
   "cell_type": "code",
   "execution_count": 9,
   "metadata": {
    "id": "S6mePoZVjGSx"
   },
   "outputs": [],
   "source": [
    "def check(geo_list):\n",
    "\n",
    "    print(\"Проверка геометрий в слоях:\\n\")\n",
    "\n",
    "    for name in geo_list:\n",
    "        if name not in globals():\n",
    "            print(f\"{name}: переменная не найдена\\n\")\n",
    "            continue\n",
    "\n",
    "        df = globals()[name]\n",
    "        if \"geometry\" not in df.columns:\n",
    "            print(f\"{name}: нет колонки geometry\\n\")\n",
    "            continue\n",
    "\n",
    "        empty_count = df[\"geometry\"].isna().sum()\n",
    "        df = df.dropna(subset=[\"geometry\"])\n",
    "\n",
    "        invalid = ~df.is_valid\n",
    "        fixed = invalid.sum()\n",
    "        if fixed > 0:\n",
    "            df.loc[invalid, \"geometry\"] = df.loc[invalid, \"geometry\"].buffer(0)\n",
    "\n",
    "        globals()[name] = df\n",
    "\n",
    "        print(f\"{name}:\")\n",
    "        print(f\"  удалено пустых геометрий: {empty_count}\")\n",
    "        print(f\"  исправлено невалидных: {fixed}\\n\")\n",
    "\n"
   ]
  },
  {
   "cell_type": "code",
   "execution_count": 10,
   "metadata": {
    "colab": {
     "base_uri": "https://localhost:8080/"
    },
    "id": "BxPkaq2zqtoI",
    "outputId": "5d54962c-c37d-41a9-a10b-52660e2d1e9f"
   },
   "outputs": [
    {
     "name": "stdout",
     "output_type": "stream",
     "text": [
      "Проверка геометрий в слоях:\n",
      "\n",
      "region:\n",
      "  удалено пустых геометрий: 0\n",
      "  исправлено невалидных: 0\n",
      "\n",
      "population:\n",
      "  удалено пустых геометрий: 0\n",
      "  исправлено невалидных: 0\n",
      "\n",
      "buildings:\n",
      "  удалено пустых геометрий: 0\n",
      "  исправлено невалидных: 0\n",
      "\n",
      "roads_bad:\n",
      "  удалено пустых геометрий: 0\n",
      "  исправлено невалидных: 0\n",
      "\n",
      "arctic_municipalities:\n",
      "  удалено пустых геометрий: 0\n",
      "  исправлено невалидных: 0\n",
      "\n",
      "education:\n",
      "  удалено пустых геометрий: 0\n",
      "  исправлено невалидных: 0\n",
      "\n",
      "tourism:\n",
      "  удалено пустых геометрий: 0\n",
      "  исправлено невалидных: 0\n",
      "\n",
      "zdrav:\n",
      "  удалено пустых геометрий: 0\n",
      "  исправлено невалидных: 0\n",
      "\n",
      "slow_roads:\n",
      "  удалено пустых геометрий: 0\n",
      "  исправлено невалидных: 0\n",
      "\n"
     ]
    }
   ],
   "source": [
    "check(geo_vars)"
   ]
  },
  {
   "cell_type": "markdown",
   "metadata": {
    "id": "VATlTdWW8CZA"
   },
   "source": [
    "**Проверка и исправление атрибутивных данных**\n"
   ]
  },
  {
   "cell_type": "code",
   "execution_count": 11,
   "metadata": {
    "colab": {
     "base_uri": "https://localhost:8080/"
    },
    "id": "sCHFnAb07ogT",
    "outputId": "7645ed04-2a90-4663-bf00-00a5461f9259"
   },
   "outputs": [
    {
     "name": "stdout",
     "output_type": "stream",
     "text": [
      "Во всех таблицах атрибутивные данные уже были чистыми.\n"
     ]
    }
   ],
   "source": [
    "attribute_cleanup_report = []\n",
    "\n",
    "for var_name in geo_vars:\n",
    "    gdf = locals()[var_name]\n",
    "\n",
    "    original_cols = gdf.columns.tolist()\n",
    "    duplicate_cols_count = gdf.columns.duplicated().sum()\n",
    "    duplicate_rows_count = gdf.duplicated().sum()\n",
    "\n",
    "    gdf.columns = [col.strip().lower() for col in gdf.columns]\n",
    "    gdf = gdf.loc[:, ~gdf.columns.duplicated()]\n",
    "    gdf = gdf.drop_duplicates()\n",
    "\n",
    "    locals()[var_name] = gdf\n",
    "\n",
    "    if duplicate_cols_count > 0 or duplicate_rows_count > 0:\n",
    "        attribute_cleanup_report.append({\n",
    "            \"table\": var_name,\n",
    "            \"duplicate_columns_removed\": duplicate_cols_count,\n",
    "            \"duplicate_rows_removed\": duplicate_rows_count\n",
    "        })\n",
    "\n",
    "if attribute_cleanup_report:\n",
    "    print(\"Очистка атрибутивных данных выполнена:\")\n",
    "    for entry in attribute_cleanup_report:\n",
    "        print(f\"- {entry['table']}: удалено дублирующих колонок — {entry['duplicate_columns_removed']}, \"\n",
    "              f\"дублирующих строк — {entry['duplicate_rows_removed']}\")\n",
    "else:\n",
    "    print(\"Во всех таблицах атрибутивные данные уже были чистыми.\")\n"
   ]
  },
  {
   "cell_type": "markdown",
   "metadata": {
    "id": "cSzCxOXS8ZV7"
   },
   "source": [
    "**Проверка на дубликаты**"
   ]
  },
  {
   "cell_type": "markdown",
   "metadata": {
    "id": "UAle4CiH8Saj"
   },
   "source": [
    "для удобства отслеживания дубликатов сделаем 1 общий df"
   ]
  },
  {
   "cell_type": "code",
   "execution_count": 12,
   "metadata": {
    "id": "TIQ4ZqYZ8R1_"
   },
   "outputs": [],
   "source": [
    "merged_list = []\n",
    "\n",
    "for var_name in geo_vars:\n",
    "    gdf = locals()[var_name]\n",
    "    gdf = gdf.copy()\n",
    "    gdf[\"source\"] = var_name  # для отслеживания, откуда объект\n",
    "    merged_list.append(gdf)\n",
    "\n",
    "merged_gdf = pd.concat(merged_list, ignore_index=True)\n",
    "\n",
    "merged_gdf = merged_gdf.drop_duplicates(subset=[\"geometry\"])"
   ]
  },
  {
   "cell_type": "markdown",
   "metadata": {
    "id": "jJLEsQ9g8y3o"
   },
   "source": [
    "теперь сама проверка, причем будем считать что объект-дубликат, если имя одинаковое и геометрия практически одинаковая(т.е разница достаточно мала, чтобы думать, что это один и тот же объект)"
   ]
  },
  {
   "cell_type": "code",
   "execution_count": 13,
   "metadata": {
    "colab": {
     "base_uri": "https://localhost:8080/",
     "height": 0
    },
    "id": "2cP51xr4P3J_",
    "outputId": "c07c1321-3d8d-42a0-ad7a-0bc37dfc84f8"
   },
   "outputs": [
    {
     "name": "stdout",
     "output_type": "stream",
     "text": [
      "Найдено дубликатов: 2\n"
     ]
    },
    {
     "data": {
      "text/html": [
       "<div>\n",
       "<style scoped>\n",
       "    .dataframe tbody tr th:only-of-type {\n",
       "        vertical-align: middle;\n",
       "    }\n",
       "\n",
       "    .dataframe tbody tr th {\n",
       "        vertical-align: top;\n",
       "    }\n",
       "\n",
       "    .dataframe thead th {\n",
       "        text-align: right;\n",
       "    }\n",
       "</style>\n",
       "<table border=\"1\" class=\"dataframe\">\n",
       "  <thead>\n",
       "    <tr style=\"text-align: right;\">\n",
       "      <th></th>\n",
       "      <th>region</th>\n",
       "      <th>id_full</th>\n",
       "      <th>level</th>\n",
       "      <th>type</th>\n",
       "      <th>name</th>\n",
       "      <th>id</th>\n",
       "      <th>geometry</th>\n",
       "      <th>source</th>\n",
       "      <th>gicity</th>\n",
       "      <th>okrug</th>\n",
       "      <th>...</th>\n",
       "      <th>x</th>\n",
       "      <th>y</th>\n",
       "      <th>cpi_id</th>\n",
       "      <th>category</th>\n",
       "      <th>category_name</th>\n",
       "      <th>dates</th>\n",
       "      <th>free_speed_to_limit</th>\n",
       "      <th>length</th>\n",
       "      <th>geom_length</th>\n",
       "      <th>geom_simple</th>\n",
       "    </tr>\n",
       "  </thead>\n",
       "  <tbody>\n",
       "    <tr>\n",
       "      <th>10486</th>\n",
       "      <td>NaN</td>\n",
       "      <td>NaN</td>\n",
       "      <td>NaN</td>\n",
       "      <td>NaN</td>\n",
       "      <td>Уютный дом, арт-пространство</td>\n",
       "      <td>131677</td>\n",
       "      <td>POINT (4511028.461 9486267.147)</td>\n",
       "      <td>education</td>\n",
       "      <td>NaN</td>\n",
       "      <td>NaN</td>\n",
       "      <td>...</td>\n",
       "      <td>40.523258</td>\n",
       "      <td>64.532398</td>\n",
       "      <td>NaN</td>\n",
       "      <td>NaN</td>\n",
       "      <td>NaN</td>\n",
       "      <td>NaN</td>\n",
       "      <td>NaN</td>\n",
       "      <td>NaN</td>\n",
       "      <td>NaN</td>\n",
       "      <td>POINT (4511028.4614 9486267.1472)</td>\n",
       "    </tr>\n",
       "    <tr>\n",
       "      <th>11882</th>\n",
       "      <td>NaN</td>\n",
       "      <td>NaN</td>\n",
       "      <td>NaN</td>\n",
       "      <td>NaN</td>\n",
       "      <td>Уютный дом, арт-пространство</td>\n",
       "      <td>6801</td>\n",
       "      <td>POINT (4511028.461 9486267.147)</td>\n",
       "      <td>tourism</td>\n",
       "      <td>NaN</td>\n",
       "      <td>NaN</td>\n",
       "      <td>...</td>\n",
       "      <td>40.523258</td>\n",
       "      <td>64.532398</td>\n",
       "      <td>NaN</td>\n",
       "      <td>NaN</td>\n",
       "      <td>NaN</td>\n",
       "      <td>NaN</td>\n",
       "      <td>NaN</td>\n",
       "      <td>NaN</td>\n",
       "      <td>NaN</td>\n",
       "      <td>POINT (4511028.4614 9486267.1472)</td>\n",
       "    </tr>\n",
       "  </tbody>\n",
       "</table>\n",
       "<p>2 rows × 39 columns</p>\n",
       "</div>"
      ],
      "text/plain": [
       "      region  id_full  level type                          name      id  \\\n",
       "10486    NaN      NaN    NaN  NaN  Уютный дом, арт-пространство  131677   \n",
       "11882    NaN      NaN    NaN  NaN  Уютный дом, арт-пространство    6801   \n",
       "\n",
       "                              geometry     source gicity okrug  ...  \\\n",
       "10486  POINT (4511028.461 9486267.147)  education    NaN   NaN  ...   \n",
       "11882  POINT (4511028.461 9486267.147)    tourism    NaN   NaN  ...   \n",
       "\n",
       "               x          y cpi_id  category category_name  dates  \\\n",
       "10486  40.523258  64.532398    NaN       NaN           NaN    NaN   \n",
       "11882  40.523258  64.532398    NaN       NaN           NaN    NaN   \n",
       "\n",
       "       free_speed_to_limit  length  geom_length  \\\n",
       "10486                  NaN     NaN          NaN   \n",
       "11882                  NaN     NaN          NaN   \n",
       "\n",
       "                             geom_simple  \n",
       "10486  POINT (4511028.4614 9486267.1472)  \n",
       "11882  POINT (4511028.4614 9486267.1472)  \n",
       "\n",
       "[2 rows x 39 columns]"
      ]
     },
     "metadata": {},
     "output_type": "display_data"
    }
   ],
   "source": [
    "df = merged_gdf.copy()\n",
    "\n",
    "geom_simple = []\n",
    "for geom in df.geometry:\n",
    "    if geom.geom_type == 'Point':\n",
    "        geom_simple.append(Point(round(geom.x, 4), round(geom.y, 4)))\n",
    "    else:\n",
    "        geom_simple.append(geom.simplify(0.0001))  #для полигонов/линий\n",
    "\n",
    "df[\"geom_simple\"] = geom_simple\n",
    "\n",
    "dups = df[df.duplicated(subset=[\"name\", \"geom_simple\"], keep=False)]\n",
    "\n",
    "\n",
    "if dups.empty:\n",
    "    print(\" Дубликаты не найдены.\")\n",
    "else:\n",
    "    print(f\"Найдено дубликатов: {len(dups)}\")\n",
    "    display(dups)"
   ]
  },
  {
   "cell_type": "markdown",
   "metadata": {
    "id": "J1cjfqtyUgHA"
   },
   "source": [
    "видим, что объект действительно один и тот же, но с разным назначением, поэтому удалять не будем (значит, в целом все данные проверены)"
   ]
  },
  {
   "cell_type": "markdown",
   "metadata": {
    "id": "tyhy_StMPqGc"
   },
   "source": [
    "#Шаг 2. Создание гексогональной сетки"
   ]
  },
  {
   "cell_type": "markdown",
   "metadata": {
    "id": "gGOhjsglQvKc"
   },
   "source": [
    "Создадим функцию гексагона"
   ]
  },
  {
   "cell_type": "code",
   "execution_count": 14,
   "metadata": {
    "id": "SyviRKhhITfL"
   },
   "outputs": [],
   "source": [
    "def create_hex(center_x, center_y, size):\n",
    "    angles = [30, 90, 150, 210, 270, 330]\n",
    "    coords = []\n",
    "    for angle in angles:\n",
    "        rad = np.deg2rad(angle)\n",
    "        x = center_x + size * np.cos(rad)\n",
    "        y = center_y + size * np.sin(rad)\n",
    "        coords.append((x, y))\n",
    "    return Polygon(coords)"
   ]
  },
  {
   "cell_type": "markdown",
   "metadata": {
    "id": "mCwV9kETQab1"
   },
   "source": [
    "center_x, center_y - координаты центра шестиугольника\n",
    "\n",
    "size - расстояние от центра до любой вершины (радиус описанной окружности)"
   ]
  },
  {
   "cell_type": "markdown",
   "metadata": {
    "id": "snWlT511RJfS"
   },
   "source": [
    "сгенерируем покрытие"
   ]
  },
  {
   "cell_type": "code",
   "execution_count": 15,
   "metadata": {
    "id": "sS09_L9hMM9R"
   },
   "outputs": [],
   "source": [
    "def generate_hexs(gdf, hex_size):\n",
    "    xmin, ymin, xmax, ymax = gdf.total_bounds\n",
    "\n",
    "    hex_width = hex_size * np.sqrt(3)\n",
    "    hex_height = 2 * hex_size\n",
    "    row_spacing = hex_size * 1.5\n",
    "\n",
    "    hexagons = []\n",
    "    row = 0\n",
    "\n",
    "    y = ymin - hex_height\n",
    "\n",
    "    while y <= ymax + hex_height:\n",
    "\n",
    "        x_offset = (hex_width / 2) if (row % 2) else 0  # смещение для четных/нечетных рядов\n",
    "        x = xmin - hex_width + x_offset\n",
    "\n",
    "        while x <= xmax + hex_width:\n",
    "            hexagon = create_hex(x, y, hex_size)\n",
    "            hexagons.append(hexagon)\n",
    "            x += hex_width\n",
    "        y += row_spacing\n",
    "        row += 1\n",
    "\n",
    "    return gpd.GeoDataFrame(geometry=hexagons, crs=gdf.crs)"
   ]
  },
  {
   "cell_type": "code",
   "execution_count": 16,
   "metadata": {
    "id": "K8NBHDyRMNG0"
   },
   "outputs": [],
   "source": [
    "hex_size = 15000  # в метрах\n",
    "hex_grid_full = generate_hexs(region, hex_size)\n",
    "hex_grid_clipped = gpd.overlay(hex_grid_full, region, how=\"intersection\") #обрезка сетки по границам региона\n",
    "\n",
    "region_wgs = region.to_crs(4326)\n",
    "hex_grid_wgs = hex_grid_clipped.to_crs(4326)"
   ]
  },
  {
   "cell_type": "markdown",
   "metadata": {
    "id": "FmVMH7qyRi4K"
   },
   "source": [
    "распределим людей по гексагону соответственно площади"
   ]
  },
  {
   "cell_type": "code",
   "execution_count": 17,
   "metadata": {
    "id": "7cREGbAJQ5bh"
   },
   "outputs": [],
   "source": [
    "def distribute_population(pop_gdf, hex_grid):\n",
    "    hex_grid = hex_grid.copy()\n",
    "    if \"hex_id\" not in hex_grid.columns:\n",
    "        hex_grid[\"hex_id\"] = hex_grid.index\n",
    "\n",
    "    pop_metric = pop_gdf.to_crs(3857)\n",
    "    hex_metric = hex_grid.to_crs(3857)\n",
    "\n",
    "    results = []\n",
    "\n",
    "    for _, pop_row in pop_metric.iterrows():\n",
    "        total_area = pop_row.geometry.area\n",
    "        if total_area == 0:  # чтобы не делить на 0\n",
    "            continue\n",
    "\n",
    "        pop_value = pop_row['people']\n",
    "\n",
    "        possible_matches_index = list(hex_metric.sindex.intersection(pop_row.geometry.bounds))\n",
    "        if not possible_matches_index:\n",
    "            continue\n",
    "\n",
    "        possible_matches = hex_metric.iloc[possible_matches_index]\n",
    "\n",
    "        for _, hex_row in possible_matches.iterrows():\n",
    "            intersection = pop_row.geometry.intersection(hex_row.geometry)\n",
    "            if not intersection.is_empty:\n",
    "\n",
    "                fraction = intersection.area / total_area #доля площади\n",
    "                results.append({        #часть населения\n",
    "                    'hex_id': hex_row['hex_id'],\n",
    "                    'pop_contrib': pop_value * fraction\n",
    "                })\n",
    "\n",
    "    if results:\n",
    "        pop_df = pd.DataFrame(results)\n",
    "        pop_sum = pop_df.groupby('hex_id')['pop_contrib'].sum().reset_index(name='population')\n",
    "        pop_sum['population'] = pop_sum['population'].round().astype(int)\n",
    "        return pop_sum\n",
    "    else:\n",
    "        return pd.DataFrame(columns=['hex_id', 'population'])\n"
   ]
  },
  {
   "cell_type": "code",
   "execution_count": 18,
   "metadata": {
    "id": "qU1Tj3YZQ5nv"
   },
   "outputs": [],
   "source": [
    "def count_hex(points_gdf, hex_grid, count_label):\n",
    "\n",
    "    if \"hex_id\" not in hex_grid.columns:\n",
    "        hex_grid = hex_grid.copy()\n",
    "        hex_grid[\"hex_id\"] = hex_grid.index\n",
    "\n",
    "    joined = gpd.sjoin(points_gdf, hex_grid[[\"hex_id\", \"geometry\"]],\n",
    "                      how=\"left\", predicate=\"within\")\n",
    "\n",
    "    counts = joined.groupby(\"hex_id\").size().reset_index(name=count_label)\n",
    "    return counts"
   ]
  },
  {
   "cell_type": "code",
   "execution_count": 19,
   "metadata": {
    "id": "E1tmml5hQ5zu"
   },
   "outputs": [],
   "source": [
    "hex_grid_clipped[\"hex_id\"] = hex_grid_clipped.index\n",
    "hex_population = distribute_population(population, hex_grid_clipped)"
   ]
  },
  {
   "cell_type": "code",
   "execution_count": 20,
   "metadata": {
    "id": "iqE4a_RjRijV"
   },
   "outputs": [],
   "source": [
    "hex_zdrav = count_hex(zdrav, hex_grid_clipped, count_label=\"count_zdrav\")\n",
    "hex_education = count_hex(education, hex_grid_clipped, count_label=\"count_education\")\n",
    "hex_tourism = count_hex(tourism, hex_grid_clipped, count_label=\"count_tourism\")\n",
    "hex_buildings = count_hex(buildings, hex_grid_clipped, count_label = \"count_buildings\")"
   ]
  },
  {
   "cell_type": "code",
   "execution_count": 21,
   "metadata": {
    "id": "5LPuKvXwRimt"
   },
   "outputs": [],
   "source": [
    "hex_grid_clipped[\"hex_id\"] = hex_grid_clipped.index\n",
    "hex_grid_combined = hex_grid_clipped.merge(hex_population, on='hex_id', how='left')\n",
    "hex_grid_combined = hex_grid_combined.merge(hex_education, on='hex_id', how='left')\n",
    "hex_grid_combined = hex_grid_combined.merge(hex_tourism, on='hex_id', how='left')\n",
    "hex_grid_combined = hex_grid_combined.merge(hex_zdrav, on='hex_id', how='left')\n",
    "hex_grid_combined = hex_grid_combined.merge(hex_buildings, on='hex_id', how='left')\n",
    "\n",
    "for col in [\"population\",\"count_education\", \"count_tourism\", \"count_zdrav\", \"count_buildings\"]:\n",
    "    hex_grid_combined[col] = hex_grid_combined[col].fillna(0).astype(int)\n"
   ]
  },
  {
   "cell_type": "code",
   "execution_count": 22,
   "metadata": {
    "id": "-QR-tj5jYNuB"
   },
   "outputs": [],
   "source": [
    "people_gdf = people.to_crs(hex_grid_combined.crs)\n",
    "people_gdf.columns = people_gdf.columns.str.lower()"
   ]
  },
  {
   "cell_type": "code",
   "execution_count": 23,
   "metadata": {
    "id": "poOQIcB3v-KR"
   },
   "outputs": [],
   "source": [
    "type_col = [c for c in people_gdf.columns if c.endswith(\"type\") or \"settle\" in c][0]\n",
    "name_col = [c for c in people_gdf.columns if \"name\" in c][0]"
   ]
  },
  {
   "cell_type": "code",
   "execution_count": 24,
   "metadata": {},
   "outputs": [],
   "source": [
    "def classify(txt):\n",
    "    t = (txt or \"\").lower()\n",
    "    if any(w in t for w in (\"город\", \"г.\", \"пгт\")): return \"city\"\n",
    "    if any(w in t for w in (\"село\", \"дерев\", \"поселок\", \"посёлок\", \"д.\")): return \"village\"\n",
    "    return \"\""
   ]
  },
  {
   "cell_type": "code",
   "execution_count": 25,
   "metadata": {
    "id": "obY6R4OQwIdU"
   },
   "outputs": [],
   "source": [
    "people_gdf[\"cls\"] = people_gdf[type_col].apply(classify)\n",
    "people_gdf[name_col] = people_gdf[name_col].fillna(\"\")"
   ]
  },
  {
   "cell_type": "code",
   "execution_count": 26,
   "metadata": {
    "id": "uk8o6oYOwIUQ"
   },
   "outputs": [],
   "source": [
    "cities   = people_gdf[people_gdf[\"cls\"]==\"city\"].copy()\n",
    "villages = people_gdf[people_gdf[\"cls\"]==\"village\"].copy()"
   ]
  },
  {
   "cell_type": "code",
   "execution_count": 27,
   "metadata": {
    "id": "0uFr6-54wIHw"
   },
   "outputs": [],
   "source": [
    "all_cities = cities.copy()\n",
    "all_villages = villages.copy()\n",
    "\n",
    "all_cities = all_cities.to_crs(\"EPSG:4326\")\n",
    "all_villages = all_villages.to_crs(\"EPSG:4326\")"
   ]
  },
  {
   "cell_type": "code",
   "execution_count": 28,
   "metadata": {
    "colab": {
     "base_uri": "https://localhost:8080/",
     "height": 753
    },
    "id": "WWjg6U9_R1iK",
    "outputId": "9022b428-084e-4a09-daff-36459ae8868a"
   },
   "outputs": [
    {
     "data": {
      "text/html": [
       "<div>\n",
       "<style scoped>\n",
       "    .dataframe tbody tr th:only-of-type {\n",
       "        vertical-align: middle;\n",
       "    }\n",
       "\n",
       "    .dataframe tbody tr th {\n",
       "        vertical-align: top;\n",
       "    }\n",
       "\n",
       "    .dataframe thead th {\n",
       "        text-align: right;\n",
       "    }\n",
       "</style>\n",
       "<table border=\"1\" class=\"dataframe\">\n",
       "  <thead>\n",
       "    <tr style=\"text-align: right;\">\n",
       "      <th></th>\n",
       "      <th>region</th>\n",
       "      <th>id_full</th>\n",
       "      <th>level</th>\n",
       "      <th>type</th>\n",
       "      <th>name</th>\n",
       "      <th>id</th>\n",
       "      <th>geometry</th>\n",
       "      <th>hex_id</th>\n",
       "      <th>population</th>\n",
       "      <th>count_education</th>\n",
       "      <th>count_tourism</th>\n",
       "      <th>count_zdrav</th>\n",
       "      <th>count_buildings</th>\n",
       "    </tr>\n",
       "  </thead>\n",
       "  <tbody>\n",
       "    <tr>\n",
       "      <th>0</th>\n",
       "      <td>Архангельская область</td>\n",
       "      <td>3</td>\n",
       "      <td>2</td>\n",
       "      <td>Область</td>\n",
       "      <td>Архангельская</td>\n",
       "      <td>144105</td>\n",
       "      <td>POLYGON ((4363574.626 8545927.688, 4363694.306...</td>\n",
       "      <td>0</td>\n",
       "      <td>0</td>\n",
       "      <td>0</td>\n",
       "      <td>0</td>\n",
       "      <td>0</td>\n",
       "      <td>0</td>\n",
       "    </tr>\n",
       "    <tr>\n",
       "      <th>1</th>\n",
       "      <td>Архангельская область</td>\n",
       "      <td>3</td>\n",
       "      <td>2</td>\n",
       "      <td>Область</td>\n",
       "      <td>Архангельская</td>\n",
       "      <td>144105</td>\n",
       "      <td>POLYGON ((4454077.338 8546676.963, 4453945.158...</td>\n",
       "      <td>1</td>\n",
       "      <td>0</td>\n",
       "      <td>0</td>\n",
       "      <td>0</td>\n",
       "      <td>0</td>\n",
       "      <td>0</td>\n",
       "    </tr>\n",
       "    <tr>\n",
       "      <th>2</th>\n",
       "      <td>Архангельская область</td>\n",
       "      <td>3</td>\n",
       "      <td>2</td>\n",
       "      <td>Область</td>\n",
       "      <td>Архангельская</td>\n",
       "      <td>144105</td>\n",
       "      <td>POLYGON ((4575259.918 8543711.128, 4574508.53 ...</td>\n",
       "      <td>2</td>\n",
       "      <td>0</td>\n",
       "      <td>0</td>\n",
       "      <td>0</td>\n",
       "      <td>0</td>\n",
       "      <td>0</td>\n",
       "    </tr>\n",
       "    <tr>\n",
       "      <th>3</th>\n",
       "      <td>Архангельская область</td>\n",
       "      <td>3</td>\n",
       "      <td>2</td>\n",
       "      <td>Область</td>\n",
       "      <td>Архангельская</td>\n",
       "      <td>144105</td>\n",
       "      <td>POLYGON ((4590042.426 8550176.443, 4593616.036...</td>\n",
       "      <td>3</td>\n",
       "      <td>0</td>\n",
       "      <td>0</td>\n",
       "      <td>0</td>\n",
       "      <td>0</td>\n",
       "      <td>0</td>\n",
       "    </tr>\n",
       "    <tr>\n",
       "      <th>4</th>\n",
       "      <td>Архангельская область</td>\n",
       "      <td>3</td>\n",
       "      <td>2</td>\n",
       "      <td>Область</td>\n",
       "      <td>Архангельская</td>\n",
       "      <td>144105</td>\n",
       "      <td>POLYGON ((4605278.703 8543973.112, 4605278.996...</td>\n",
       "      <td>4</td>\n",
       "      <td>0</td>\n",
       "      <td>0</td>\n",
       "      <td>0</td>\n",
       "      <td>0</td>\n",
       "      <td>0</td>\n",
       "    </tr>\n",
       "    <tr>\n",
       "      <th>...</th>\n",
       "      <td>...</td>\n",
       "      <td>...</td>\n",
       "      <td>...</td>\n",
       "      <td>...</td>\n",
       "      <td>...</td>\n",
       "      <td>...</td>\n",
       "      <td>...</td>\n",
       "      <td>...</td>\n",
       "      <td>...</td>\n",
       "      <td>...</td>\n",
       "      <td>...</td>\n",
       "      <td>...</td>\n",
       "      <td>...</td>\n",
       "    </tr>\n",
       "    <tr>\n",
       "      <th>11361</th>\n",
       "      <td>Архангельская область</td>\n",
       "      <td>3</td>\n",
       "      <td>2</td>\n",
       "      <td>Область</td>\n",
       "      <td>Архангельская</td>\n",
       "      <td>144105</td>\n",
       "      <td>POLYGON ((6538599.585 17010176.443, 6525609.20...</td>\n",
       "      <td>11361</td>\n",
       "      <td>0</td>\n",
       "      <td>0</td>\n",
       "      <td>0</td>\n",
       "      <td>0</td>\n",
       "      <td>0</td>\n",
       "    </tr>\n",
       "    <tr>\n",
       "      <th>11362</th>\n",
       "      <td>Архангельская область</td>\n",
       "      <td>3</td>\n",
       "      <td>2</td>\n",
       "      <td>Область</td>\n",
       "      <td>Архангельская</td>\n",
       "      <td>144105</td>\n",
       "      <td>POLYGON ((6564580.347 17010176.443, 6551589.96...</td>\n",
       "      <td>11362</td>\n",
       "      <td>0</td>\n",
       "      <td>0</td>\n",
       "      <td>0</td>\n",
       "      <td>0</td>\n",
       "      <td>0</td>\n",
       "    </tr>\n",
       "    <tr>\n",
       "      <th>11363</th>\n",
       "      <td>Архангельская область</td>\n",
       "      <td>3</td>\n",
       "      <td>2</td>\n",
       "      <td>Область</td>\n",
       "      <td>Архангельская</td>\n",
       "      <td>144105</td>\n",
       "      <td>POLYGON ((6590561.109 17010176.443, 6577570.72...</td>\n",
       "      <td>11363</td>\n",
       "      <td>0</td>\n",
       "      <td>0</td>\n",
       "      <td>0</td>\n",
       "      <td>0</td>\n",
       "      <td>0</td>\n",
       "    </tr>\n",
       "    <tr>\n",
       "      <th>11364</th>\n",
       "      <td>Архангельская область</td>\n",
       "      <td>3</td>\n",
       "      <td>2</td>\n",
       "      <td>Область</td>\n",
       "      <td>Архангельская</td>\n",
       "      <td>144105</td>\n",
       "      <td>POLYGON ((6603551.49 17002676.443, 6590561.109...</td>\n",
       "      <td>11364</td>\n",
       "      <td>0</td>\n",
       "      <td>0</td>\n",
       "      <td>0</td>\n",
       "      <td>0</td>\n",
       "      <td>0</td>\n",
       "    </tr>\n",
       "    <tr>\n",
       "      <th>11365</th>\n",
       "      <td>Архангельская область</td>\n",
       "      <td>3</td>\n",
       "      <td>2</td>\n",
       "      <td>Область</td>\n",
       "      <td>Архангельская</td>\n",
       "      <td>144105</td>\n",
       "      <td>POLYGON ((6629532.252 17002676.443, 6617956.75...</td>\n",
       "      <td>11365</td>\n",
       "      <td>0</td>\n",
       "      <td>0</td>\n",
       "      <td>0</td>\n",
       "      <td>0</td>\n",
       "      <td>0</td>\n",
       "    </tr>\n",
       "  </tbody>\n",
       "</table>\n",
       "<p>11366 rows × 13 columns</p>\n",
       "</div>"
      ],
      "text/plain": [
       "                      region  id_full  level     type           name      id  \\\n",
       "0      Архангельская область        3      2  Область  Архангельская  144105   \n",
       "1      Архангельская область        3      2  Область  Архангельская  144105   \n",
       "2      Архангельская область        3      2  Область  Архангельская  144105   \n",
       "3      Архангельская область        3      2  Область  Архангельская  144105   \n",
       "4      Архангельская область        3      2  Область  Архангельская  144105   \n",
       "...                      ...      ...    ...      ...            ...     ...   \n",
       "11361  Архангельская область        3      2  Область  Архангельская  144105   \n",
       "11362  Архангельская область        3      2  Область  Архангельская  144105   \n",
       "11363  Архангельская область        3      2  Область  Архангельская  144105   \n",
       "11364  Архангельская область        3      2  Область  Архангельская  144105   \n",
       "11365  Архангельская область        3      2  Область  Архангельская  144105   \n",
       "\n",
       "                                                geometry  hex_id  population  \\\n",
       "0      POLYGON ((4363574.626 8545927.688, 4363694.306...       0           0   \n",
       "1      POLYGON ((4454077.338 8546676.963, 4453945.158...       1           0   \n",
       "2      POLYGON ((4575259.918 8543711.128, 4574508.53 ...       2           0   \n",
       "3      POLYGON ((4590042.426 8550176.443, 4593616.036...       3           0   \n",
       "4      POLYGON ((4605278.703 8543973.112, 4605278.996...       4           0   \n",
       "...                                                  ...     ...         ...   \n",
       "11361  POLYGON ((6538599.585 17010176.443, 6525609.20...   11361           0   \n",
       "11362  POLYGON ((6564580.347 17010176.443, 6551589.96...   11362           0   \n",
       "11363  POLYGON ((6590561.109 17010176.443, 6577570.72...   11363           0   \n",
       "11364  POLYGON ((6603551.49 17002676.443, 6590561.109...   11364           0   \n",
       "11365  POLYGON ((6629532.252 17002676.443, 6617956.75...   11365           0   \n",
       "\n",
       "       count_education  count_tourism  count_zdrav  count_buildings  \n",
       "0                    0              0            0                0  \n",
       "1                    0              0            0                0  \n",
       "2                    0              0            0                0  \n",
       "3                    0              0            0                0  \n",
       "4                    0              0            0                0  \n",
       "...                ...            ...          ...              ...  \n",
       "11361                0              0            0                0  \n",
       "11362                0              0            0                0  \n",
       "11363                0              0            0                0  \n",
       "11364                0              0            0                0  \n",
       "11365                0              0            0                0  \n",
       "\n",
       "[11366 rows x 13 columns]"
      ]
     },
     "execution_count": 28,
     "metadata": {},
     "output_type": "execute_result"
    }
   ],
   "source": [
    "hex_grid_combined.fillna(0, inplace=True)\n",
    "hex_grid_combined"
   ]
  },
  {
   "cell_type": "markdown",
   "metadata": {
    "id": "pvOidb8ubLTg"
   },
   "source": [
    "#Воспользуемся ML для построения аналитики по гексагонам."
   ]
  },
  {
   "cell_type": "markdown",
   "metadata": {
    "id": "t3KPNz94OCX7"
   },
   "source": [
    "Найдем самые лучшие и худшие территории. Так как у нас нет данных для обучения воспользуемся кластеризацией. Разделим на классы территории и попробуем написать модель, которая будет по известным признакам анализировать данные. Воспользуемся RandomForest. Это умная модель, но она не сильно зависит от качества данных. Гиперпараметры подберем с помощью gridsearch."
   ]
  },
  {
   "cell_type": "code",
   "execution_count": 29,
   "metadata": {
    "id": "i5LFOcsubKh7"
   },
   "outputs": [],
   "source": [
    "data_ml = hex_grid_combined.copy()\n",
    "features = ['population', 'count_education', 'count_tourism', 'count_zdrav', 'count_buildings']\n",
    "\n",
    "for feature in features:\n",
    "  data_ml[feature] = data_ml[feature].replace(0, 0.1)\n",
    "  data_ml[f'log_{feature}'] = np.log1p(data_ml[feature])\n",
    "log_features = [f'log_{feat}' for feat in features]\n",
    "X = data_ml[log_features].values\n",
    "scaler = StandardScaler()\n",
    "X_scaled = scaler.fit_transform(X)"
   ]
  },
  {
   "cell_type": "markdown",
   "metadata": {
    "id": "RQfIjQxqcLhR"
   },
   "source": [
    "Здесь мы логарифмируем, приводим данные к одному виду. Используем scaler чтобы посчитать все как нужно. Далее создадим 3 кластера и определим, какой соответствует высокому уровню развития территории"
   ]
  },
  {
   "cell_type": "code",
   "execution_count": 30,
   "metadata": {
    "id": "mRTxI5F9b_G3"
   },
   "outputs": [],
   "source": [
    "kmeans = KMeans(n_clusters=3, random_state=42, n_init=10)\n",
    "clusters = kmeans.fit_predict(X_scaled)\n",
    "cluster_means = [X_scaled[clusters == i].mean(axis=0).mean() for i in range(3)]\n",
    "high_dev_cluster = np.argmax(cluster_means)\n"
   ]
  },
  {
   "cell_type": "markdown",
   "metadata": {
    "id": "lG3SKwN3cqNW"
   },
   "source": [
    "Создаем метки, делим выборку на тестовую и тренировочую, делим данные. Далее подберем параметры и обучим модель"
   ]
  },
  {
   "cell_type": "code",
   "execution_count": 31,
   "metadata": {
    "id": "Dmk2khAKcmtY"
   },
   "outputs": [],
   "source": [
    "data_ml['dev_class'] = clusters\n",
    "data_ml['is_high_dev'] = (data_ml['dev_class'] == high_dev_cluster).astype(int)\n",
    "X = data_ml[log_features]\n",
    "y = data_ml['is_high_dev']\n",
    "X_train, X_test, y_train, y_test = train_test_split(X, y, test_size=0.2, random_state=42)"
   ]
  },
  {
   "cell_type": "code",
   "execution_count": 32,
   "metadata": {
    "colab": {
     "base_uri": "https://localhost:8080/",
     "height": 183
    },
    "id": "uCIm65S6c2Tf",
    "outputId": "66b747cc-cd61-41ac-ceea-ac18e48d7922"
   },
   "outputs": [
    {
     "name": "stdout",
     "output_type": "stream",
     "text": [
      "Fitting 3 folds for each of 72 candidates, totalling 216 fits\n"
     ]
    },
    {
     "data": {
      "text/html": [
       "<style>#sk-container-id-1 {\n",
       "  /* Definition of color scheme common for light and dark mode */\n",
       "  --sklearn-color-text: black;\n",
       "  --sklearn-color-line: gray;\n",
       "  /* Definition of color scheme for unfitted estimators */\n",
       "  --sklearn-color-unfitted-level-0: #fff5e6;\n",
       "  --sklearn-color-unfitted-level-1: #f6e4d2;\n",
       "  --sklearn-color-unfitted-level-2: #ffe0b3;\n",
       "  --sklearn-color-unfitted-level-3: chocolate;\n",
       "  /* Definition of color scheme for fitted estimators */\n",
       "  --sklearn-color-fitted-level-0: #f0f8ff;\n",
       "  --sklearn-color-fitted-level-1: #d4ebff;\n",
       "  --sklearn-color-fitted-level-2: #b3dbfd;\n",
       "  --sklearn-color-fitted-level-3: cornflowerblue;\n",
       "\n",
       "  /* Specific color for light theme */\n",
       "  --sklearn-color-text-on-default-background: var(--sg-text-color, var(--theme-code-foreground, var(--jp-content-font-color1, black)));\n",
       "  --sklearn-color-background: var(--sg-background-color, var(--theme-background, var(--jp-layout-color0, white)));\n",
       "  --sklearn-color-border-box: var(--sg-text-color, var(--theme-code-foreground, var(--jp-content-font-color1, black)));\n",
       "  --sklearn-color-icon: #696969;\n",
       "\n",
       "  @media (prefers-color-scheme: dark) {\n",
       "    /* Redefinition of color scheme for dark theme */\n",
       "    --sklearn-color-text-on-default-background: var(--sg-text-color, var(--theme-code-foreground, var(--jp-content-font-color1, white)));\n",
       "    --sklearn-color-background: var(--sg-background-color, var(--theme-background, var(--jp-layout-color0, #111)));\n",
       "    --sklearn-color-border-box: var(--sg-text-color, var(--theme-code-foreground, var(--jp-content-font-color1, white)));\n",
       "    --sklearn-color-icon: #878787;\n",
       "  }\n",
       "}\n",
       "\n",
       "#sk-container-id-1 {\n",
       "  color: var(--sklearn-color-text);\n",
       "}\n",
       "\n",
       "#sk-container-id-1 pre {\n",
       "  padding: 0;\n",
       "}\n",
       "\n",
       "#sk-container-id-1 input.sk-hidden--visually {\n",
       "  border: 0;\n",
       "  clip: rect(1px 1px 1px 1px);\n",
       "  clip: rect(1px, 1px, 1px, 1px);\n",
       "  height: 1px;\n",
       "  margin: -1px;\n",
       "  overflow: hidden;\n",
       "  padding: 0;\n",
       "  position: absolute;\n",
       "  width: 1px;\n",
       "}\n",
       "\n",
       "#sk-container-id-1 div.sk-dashed-wrapped {\n",
       "  border: 1px dashed var(--sklearn-color-line);\n",
       "  margin: 0 0.4em 0.5em 0.4em;\n",
       "  box-sizing: border-box;\n",
       "  padding-bottom: 0.4em;\n",
       "  background-color: var(--sklearn-color-background);\n",
       "}\n",
       "\n",
       "#sk-container-id-1 div.sk-container {\n",
       "  /* jupyter's `normalize.less` sets `[hidden] { display: none; }`\n",
       "     but bootstrap.min.css set `[hidden] { display: none !important; }`\n",
       "     so we also need the `!important` here to be able to override the\n",
       "     default hidden behavior on the sphinx rendered scikit-learn.org.\n",
       "     See: https://github.com/scikit-learn/scikit-learn/issues/21755 */\n",
       "  display: inline-block !important;\n",
       "  position: relative;\n",
       "}\n",
       "\n",
       "#sk-container-id-1 div.sk-text-repr-fallback {\n",
       "  display: none;\n",
       "}\n",
       "\n",
       "div.sk-parallel-item,\n",
       "div.sk-serial,\n",
       "div.sk-item {\n",
       "  /* draw centered vertical line to link estimators */\n",
       "  background-image: linear-gradient(var(--sklearn-color-text-on-default-background), var(--sklearn-color-text-on-default-background));\n",
       "  background-size: 2px 100%;\n",
       "  background-repeat: no-repeat;\n",
       "  background-position: center center;\n",
       "}\n",
       "\n",
       "/* Parallel-specific style estimator block */\n",
       "\n",
       "#sk-container-id-1 div.sk-parallel-item::after {\n",
       "  content: \"\";\n",
       "  width: 100%;\n",
       "  border-bottom: 2px solid var(--sklearn-color-text-on-default-background);\n",
       "  flex-grow: 1;\n",
       "}\n",
       "\n",
       "#sk-container-id-1 div.sk-parallel {\n",
       "  display: flex;\n",
       "  align-items: stretch;\n",
       "  justify-content: center;\n",
       "  background-color: var(--sklearn-color-background);\n",
       "  position: relative;\n",
       "}\n",
       "\n",
       "#sk-container-id-1 div.sk-parallel-item {\n",
       "  display: flex;\n",
       "  flex-direction: column;\n",
       "}\n",
       "\n",
       "#sk-container-id-1 div.sk-parallel-item:first-child::after {\n",
       "  align-self: flex-end;\n",
       "  width: 50%;\n",
       "}\n",
       "\n",
       "#sk-container-id-1 div.sk-parallel-item:last-child::after {\n",
       "  align-self: flex-start;\n",
       "  width: 50%;\n",
       "}\n",
       "\n",
       "#sk-container-id-1 div.sk-parallel-item:only-child::after {\n",
       "  width: 0;\n",
       "}\n",
       "\n",
       "/* Serial-specific style estimator block */\n",
       "\n",
       "#sk-container-id-1 div.sk-serial {\n",
       "  display: flex;\n",
       "  flex-direction: column;\n",
       "  align-items: center;\n",
       "  background-color: var(--sklearn-color-background);\n",
       "  padding-right: 1em;\n",
       "  padding-left: 1em;\n",
       "}\n",
       "\n",
       "\n",
       "/* Toggleable style: style used for estimator/Pipeline/ColumnTransformer box that is\n",
       "clickable and can be expanded/collapsed.\n",
       "- Pipeline and ColumnTransformer use this feature and define the default style\n",
       "- Estimators will overwrite some part of the style using the `sk-estimator` class\n",
       "*/\n",
       "\n",
       "/* Pipeline and ColumnTransformer style (default) */\n",
       "\n",
       "#sk-container-id-1 div.sk-toggleable {\n",
       "  /* Default theme specific background. It is overwritten whether we have a\n",
       "  specific estimator or a Pipeline/ColumnTransformer */\n",
       "  background-color: var(--sklearn-color-background);\n",
       "}\n",
       "\n",
       "/* Toggleable label */\n",
       "#sk-container-id-1 label.sk-toggleable__label {\n",
       "  cursor: pointer;\n",
       "  display: block;\n",
       "  width: 100%;\n",
       "  margin-bottom: 0;\n",
       "  padding: 0.5em;\n",
       "  box-sizing: border-box;\n",
       "  text-align: center;\n",
       "}\n",
       "\n",
       "#sk-container-id-1 label.sk-toggleable__label-arrow:before {\n",
       "  /* Arrow on the left of the label */\n",
       "  content: \"▸\";\n",
       "  float: left;\n",
       "  margin-right: 0.25em;\n",
       "  color: var(--sklearn-color-icon);\n",
       "}\n",
       "\n",
       "#sk-container-id-1 label.sk-toggleable__label-arrow:hover:before {\n",
       "  color: var(--sklearn-color-text);\n",
       "}\n",
       "\n",
       "/* Toggleable content - dropdown */\n",
       "\n",
       "#sk-container-id-1 div.sk-toggleable__content {\n",
       "  max-height: 0;\n",
       "  max-width: 0;\n",
       "  overflow: hidden;\n",
       "  text-align: left;\n",
       "  /* unfitted */\n",
       "  background-color: var(--sklearn-color-unfitted-level-0);\n",
       "}\n",
       "\n",
       "#sk-container-id-1 div.sk-toggleable__content.fitted {\n",
       "  /* fitted */\n",
       "  background-color: var(--sklearn-color-fitted-level-0);\n",
       "}\n",
       "\n",
       "#sk-container-id-1 div.sk-toggleable__content pre {\n",
       "  margin: 0.2em;\n",
       "  border-radius: 0.25em;\n",
       "  color: var(--sklearn-color-text);\n",
       "  /* unfitted */\n",
       "  background-color: var(--sklearn-color-unfitted-level-0);\n",
       "}\n",
       "\n",
       "#sk-container-id-1 div.sk-toggleable__content.fitted pre {\n",
       "  /* unfitted */\n",
       "  background-color: var(--sklearn-color-fitted-level-0);\n",
       "}\n",
       "\n",
       "#sk-container-id-1 input.sk-toggleable__control:checked~div.sk-toggleable__content {\n",
       "  /* Expand drop-down */\n",
       "  max-height: 200px;\n",
       "  max-width: 100%;\n",
       "  overflow: auto;\n",
       "}\n",
       "\n",
       "#sk-container-id-1 input.sk-toggleable__control:checked~label.sk-toggleable__label-arrow:before {\n",
       "  content: \"▾\";\n",
       "}\n",
       "\n",
       "/* Pipeline/ColumnTransformer-specific style */\n",
       "\n",
       "#sk-container-id-1 div.sk-label input.sk-toggleable__control:checked~label.sk-toggleable__label {\n",
       "  color: var(--sklearn-color-text);\n",
       "  background-color: var(--sklearn-color-unfitted-level-2);\n",
       "}\n",
       "\n",
       "#sk-container-id-1 div.sk-label.fitted input.sk-toggleable__control:checked~label.sk-toggleable__label {\n",
       "  background-color: var(--sklearn-color-fitted-level-2);\n",
       "}\n",
       "\n",
       "/* Estimator-specific style */\n",
       "\n",
       "/* Colorize estimator box */\n",
       "#sk-container-id-1 div.sk-estimator input.sk-toggleable__control:checked~label.sk-toggleable__label {\n",
       "  /* unfitted */\n",
       "  background-color: var(--sklearn-color-unfitted-level-2);\n",
       "}\n",
       "\n",
       "#sk-container-id-1 div.sk-estimator.fitted input.sk-toggleable__control:checked~label.sk-toggleable__label {\n",
       "  /* fitted */\n",
       "  background-color: var(--sklearn-color-fitted-level-2);\n",
       "}\n",
       "\n",
       "#sk-container-id-1 div.sk-label label.sk-toggleable__label,\n",
       "#sk-container-id-1 div.sk-label label {\n",
       "  /* The background is the default theme color */\n",
       "  color: var(--sklearn-color-text-on-default-background);\n",
       "}\n",
       "\n",
       "/* On hover, darken the color of the background */\n",
       "#sk-container-id-1 div.sk-label:hover label.sk-toggleable__label {\n",
       "  color: var(--sklearn-color-text);\n",
       "  background-color: var(--sklearn-color-unfitted-level-2);\n",
       "}\n",
       "\n",
       "/* Label box, darken color on hover, fitted */\n",
       "#sk-container-id-1 div.sk-label.fitted:hover label.sk-toggleable__label.fitted {\n",
       "  color: var(--sklearn-color-text);\n",
       "  background-color: var(--sklearn-color-fitted-level-2);\n",
       "}\n",
       "\n",
       "/* Estimator label */\n",
       "\n",
       "#sk-container-id-1 div.sk-label label {\n",
       "  font-family: monospace;\n",
       "  font-weight: bold;\n",
       "  display: inline-block;\n",
       "  line-height: 1.2em;\n",
       "}\n",
       "\n",
       "#sk-container-id-1 div.sk-label-container {\n",
       "  text-align: center;\n",
       "}\n",
       "\n",
       "/* Estimator-specific */\n",
       "#sk-container-id-1 div.sk-estimator {\n",
       "  font-family: monospace;\n",
       "  border: 1px dotted var(--sklearn-color-border-box);\n",
       "  border-radius: 0.25em;\n",
       "  box-sizing: border-box;\n",
       "  margin-bottom: 0.5em;\n",
       "  /* unfitted */\n",
       "  background-color: var(--sklearn-color-unfitted-level-0);\n",
       "}\n",
       "\n",
       "#sk-container-id-1 div.sk-estimator.fitted {\n",
       "  /* fitted */\n",
       "  background-color: var(--sklearn-color-fitted-level-0);\n",
       "}\n",
       "\n",
       "/* on hover */\n",
       "#sk-container-id-1 div.sk-estimator:hover {\n",
       "  /* unfitted */\n",
       "  background-color: var(--sklearn-color-unfitted-level-2);\n",
       "}\n",
       "\n",
       "#sk-container-id-1 div.sk-estimator.fitted:hover {\n",
       "  /* fitted */\n",
       "  background-color: var(--sklearn-color-fitted-level-2);\n",
       "}\n",
       "\n",
       "/* Specification for estimator info (e.g. \"i\" and \"?\") */\n",
       "\n",
       "/* Common style for \"i\" and \"?\" */\n",
       "\n",
       ".sk-estimator-doc-link,\n",
       "a:link.sk-estimator-doc-link,\n",
       "a:visited.sk-estimator-doc-link {\n",
       "  float: right;\n",
       "  font-size: smaller;\n",
       "  line-height: 1em;\n",
       "  font-family: monospace;\n",
       "  background-color: var(--sklearn-color-background);\n",
       "  border-radius: 1em;\n",
       "  height: 1em;\n",
       "  width: 1em;\n",
       "  text-decoration: none !important;\n",
       "  margin-left: 1ex;\n",
       "  /* unfitted */\n",
       "  border: var(--sklearn-color-unfitted-level-1) 1pt solid;\n",
       "  color: var(--sklearn-color-unfitted-level-1);\n",
       "}\n",
       "\n",
       ".sk-estimator-doc-link.fitted,\n",
       "a:link.sk-estimator-doc-link.fitted,\n",
       "a:visited.sk-estimator-doc-link.fitted {\n",
       "  /* fitted */\n",
       "  border: var(--sklearn-color-fitted-level-1) 1pt solid;\n",
       "  color: var(--sklearn-color-fitted-level-1);\n",
       "}\n",
       "\n",
       "/* On hover */\n",
       "div.sk-estimator:hover .sk-estimator-doc-link:hover,\n",
       ".sk-estimator-doc-link:hover,\n",
       "div.sk-label-container:hover .sk-estimator-doc-link:hover,\n",
       ".sk-estimator-doc-link:hover {\n",
       "  /* unfitted */\n",
       "  background-color: var(--sklearn-color-unfitted-level-3);\n",
       "  color: var(--sklearn-color-background);\n",
       "  text-decoration: none;\n",
       "}\n",
       "\n",
       "div.sk-estimator.fitted:hover .sk-estimator-doc-link.fitted:hover,\n",
       ".sk-estimator-doc-link.fitted:hover,\n",
       "div.sk-label-container:hover .sk-estimator-doc-link.fitted:hover,\n",
       ".sk-estimator-doc-link.fitted:hover {\n",
       "  /* fitted */\n",
       "  background-color: var(--sklearn-color-fitted-level-3);\n",
       "  color: var(--sklearn-color-background);\n",
       "  text-decoration: none;\n",
       "}\n",
       "\n",
       "/* Span, style for the box shown on hovering the info icon */\n",
       ".sk-estimator-doc-link span {\n",
       "  display: none;\n",
       "  z-index: 9999;\n",
       "  position: relative;\n",
       "  font-weight: normal;\n",
       "  right: .2ex;\n",
       "  padding: .5ex;\n",
       "  margin: .5ex;\n",
       "  width: min-content;\n",
       "  min-width: 20ex;\n",
       "  max-width: 50ex;\n",
       "  color: var(--sklearn-color-text);\n",
       "  box-shadow: 2pt 2pt 4pt #999;\n",
       "  /* unfitted */\n",
       "  background: var(--sklearn-color-unfitted-level-0);\n",
       "  border: .5pt solid var(--sklearn-color-unfitted-level-3);\n",
       "}\n",
       "\n",
       ".sk-estimator-doc-link.fitted span {\n",
       "  /* fitted */\n",
       "  background: var(--sklearn-color-fitted-level-0);\n",
       "  border: var(--sklearn-color-fitted-level-3);\n",
       "}\n",
       "\n",
       ".sk-estimator-doc-link:hover span {\n",
       "  display: block;\n",
       "}\n",
       "\n",
       "/* \"?\"-specific style due to the `<a>` HTML tag */\n",
       "\n",
       "#sk-container-id-1 a.estimator_doc_link {\n",
       "  float: right;\n",
       "  font-size: 1rem;\n",
       "  line-height: 1em;\n",
       "  font-family: monospace;\n",
       "  background-color: var(--sklearn-color-background);\n",
       "  border-radius: 1rem;\n",
       "  height: 1rem;\n",
       "  width: 1rem;\n",
       "  text-decoration: none;\n",
       "  /* unfitted */\n",
       "  color: var(--sklearn-color-unfitted-level-1);\n",
       "  border: var(--sklearn-color-unfitted-level-1) 1pt solid;\n",
       "}\n",
       "\n",
       "#sk-container-id-1 a.estimator_doc_link.fitted {\n",
       "  /* fitted */\n",
       "  border: var(--sklearn-color-fitted-level-1) 1pt solid;\n",
       "  color: var(--sklearn-color-fitted-level-1);\n",
       "}\n",
       "\n",
       "/* On hover */\n",
       "#sk-container-id-1 a.estimator_doc_link:hover {\n",
       "  /* unfitted */\n",
       "  background-color: var(--sklearn-color-unfitted-level-3);\n",
       "  color: var(--sklearn-color-background);\n",
       "  text-decoration: none;\n",
       "}\n",
       "\n",
       "#sk-container-id-1 a.estimator_doc_link.fitted:hover {\n",
       "  /* fitted */\n",
       "  background-color: var(--sklearn-color-fitted-level-3);\n",
       "}\n",
       "</style><div id=\"sk-container-id-1\" class=\"sk-top-container\"><div class=\"sk-text-repr-fallback\"><pre>GridSearchCV(cv=3,\n",
       "             estimator=RandomForestClassifier(class_weight=&#x27;balanced&#x27;,\n",
       "                                              oob_score=True, random_state=42),\n",
       "             n_jobs=-1,\n",
       "             param_grid={&#x27;max_depth&#x27;: [5, 10, 15, None],\n",
       "                         &#x27;max_features&#x27;: [&#x27;sqrt&#x27;, &#x27;log2&#x27;],\n",
       "                         &#x27;min_samples_split&#x27;: [2, 5, 10],\n",
       "                         &#x27;n_estimators&#x27;: [100, 200, 300]},\n",
       "             scoring=&#x27;f1_weighted&#x27;, verbose=1)</pre><b>In a Jupyter environment, please rerun this cell to show the HTML representation or trust the notebook. <br />On GitHub, the HTML representation is unable to render, please try loading this page with nbviewer.org.</b></div><div class=\"sk-container\" hidden><div class=\"sk-item sk-dashed-wrapped\"><div class=\"sk-label-container\"><div class=\"sk-label fitted sk-toggleable\"><input class=\"sk-toggleable__control sk-hidden--visually\" id=\"sk-estimator-id-1\" type=\"checkbox\" ><label for=\"sk-estimator-id-1\" class=\"sk-toggleable__label fitted sk-toggleable__label-arrow fitted\">&nbsp;&nbsp;GridSearchCV<a class=\"sk-estimator-doc-link fitted\" rel=\"noreferrer\" target=\"_blank\" href=\"https://scikit-learn.org/1.5/modules/generated/sklearn.model_selection.GridSearchCV.html\">?<span>Documentation for GridSearchCV</span></a><span class=\"sk-estimator-doc-link fitted\">i<span>Fitted</span></span></label><div class=\"sk-toggleable__content fitted\"><pre>GridSearchCV(cv=3,\n",
       "             estimator=RandomForestClassifier(class_weight=&#x27;balanced&#x27;,\n",
       "                                              oob_score=True, random_state=42),\n",
       "             n_jobs=-1,\n",
       "             param_grid={&#x27;max_depth&#x27;: [5, 10, 15, None],\n",
       "                         &#x27;max_features&#x27;: [&#x27;sqrt&#x27;, &#x27;log2&#x27;],\n",
       "                         &#x27;min_samples_split&#x27;: [2, 5, 10],\n",
       "                         &#x27;n_estimators&#x27;: [100, 200, 300]},\n",
       "             scoring=&#x27;f1_weighted&#x27;, verbose=1)</pre></div> </div></div><div class=\"sk-parallel\"><div class=\"sk-parallel-item\"><div class=\"sk-item\"><div class=\"sk-label-container\"><div class=\"sk-label fitted sk-toggleable\"><input class=\"sk-toggleable__control sk-hidden--visually\" id=\"sk-estimator-id-2\" type=\"checkbox\" ><label for=\"sk-estimator-id-2\" class=\"sk-toggleable__label fitted sk-toggleable__label-arrow fitted\">best_estimator_: RandomForestClassifier</label><div class=\"sk-toggleable__content fitted\"><pre>RandomForestClassifier(class_weight=&#x27;balanced&#x27;, max_depth=5,\n",
       "                       min_samples_split=5, oob_score=True, random_state=42)</pre></div> </div></div><div class=\"sk-serial\"><div class=\"sk-item\"><div class=\"sk-estimator fitted sk-toggleable\"><input class=\"sk-toggleable__control sk-hidden--visually\" id=\"sk-estimator-id-3\" type=\"checkbox\" ><label for=\"sk-estimator-id-3\" class=\"sk-toggleable__label fitted sk-toggleable__label-arrow fitted\">&nbsp;RandomForestClassifier<a class=\"sk-estimator-doc-link fitted\" rel=\"noreferrer\" target=\"_blank\" href=\"https://scikit-learn.org/1.5/modules/generated/sklearn.ensemble.RandomForestClassifier.html\">?<span>Documentation for RandomForestClassifier</span></a></label><div class=\"sk-toggleable__content fitted\"><pre>RandomForestClassifier(class_weight=&#x27;balanced&#x27;, max_depth=5,\n",
       "                       min_samples_split=5, oob_score=True, random_state=42)</pre></div> </div></div></div></div></div></div></div></div></div>"
      ],
      "text/plain": [
       "GridSearchCV(cv=3,\n",
       "             estimator=RandomForestClassifier(class_weight='balanced',\n",
       "                                              oob_score=True, random_state=42),\n",
       "             n_jobs=-1,\n",
       "             param_grid={'max_depth': [5, 10, 15, None],\n",
       "                         'max_features': ['sqrt', 'log2'],\n",
       "                         'min_samples_split': [2, 5, 10],\n",
       "                         'n_estimators': [100, 200, 300]},\n",
       "             scoring='f1_weighted', verbose=1)"
      ]
     },
     "execution_count": 32,
     "metadata": {},
     "output_type": "execute_result"
    }
   ],
   "source": [
    "param_grid = {\n",
    "    'n_estimators': [100, 200, 300],\n",
    "    'max_depth': [5, 10, 15, None],\n",
    "    'min_samples_split': [2, 5, 10],\n",
    "    'max_features': ['sqrt', 'log2']\n",
    "}\n",
    "rf = RandomForestClassifier(\n",
    "    random_state=42,\n",
    "    class_weight='balanced',\n",
    "    oob_score=True\n",
    ")\n",
    "grid_search = GridSearchCV(\n",
    "    estimator=rf,\n",
    "    param_grid=param_grid,\n",
    "    cv=3,\n",
    "    n_jobs=-1,\n",
    "    verbose=1,\n",
    "    scoring='f1_weighted'\n",
    ")\n",
    "grid_search.fit(X_train, y_train)"
   ]
  },
  {
   "cell_type": "markdown",
   "metadata": {
    "id": "Mfr6Oq2sdOF2"
   },
   "source": [
    "Теперь обучим модель и посмотрим на наши результаты"
   ]
  },
  {
   "cell_type": "code",
   "execution_count": 33,
   "metadata": {
    "id": "ENIoOuACdI6m"
   },
   "outputs": [],
   "source": [
    "best_params = grid_search.best_params_\n",
    "best_model = grid_search.best_estimator_\n",
    "best_model.fit(X_train, y_train)\n",
    "data_ml['high_dev_proba'] = best_model.predict_proba(X)[:, 1]\n",
    "top_10 = data_ml.nlargest(10, 'high_dev_proba')\n",
    "bottom_10 = data_ml.nsmallest(10, 'high_dev_proba')\n",
    "data_ml['dev_category'] = 'medium'\n",
    "data_ml.loc[top_10.index, 'dev_category'] = 'top'\n",
    "data_ml.loc[bottom_10.index, 'dev_category'] = 'bottom'"
   ]
  },
  {
   "cell_type": "markdown",
   "metadata": {
    "id": "klp0DfgXc8De"
   },
   "source": [
    "Отлично! Мы нашли лучшие и худшие регионы. Визуализацию добавим на карту, и посмторим на то, насколько хороша наша модель"
   ]
  },
  {
   "cell_type": "code",
   "execution_count": 35,
   "metadata": {
    "colab": {
     "base_uri": "https://localhost:8080/",
     "height": 1000
    },
    "id": "gHOgTMN0dcU_",
    "outputId": "f576e51e-4b09-4692-bedc-938fed87a6cf"
   },
   "outputs": [
    {
     "name": "stdout",
     "output_type": "stream",
     "text": [
      "\n",
      "Топ-10 гексагонов:\n",
      "   hex_id  high_dev_proba\n",
      "0    2013        0.999934\n",
      "1    1951        0.999922\n",
      "2    1892        0.999891\n",
      "3    2012        0.979934\n",
      "4    1950        0.969934\n",
      "5    2009        0.969796\n",
      "6    1947        0.959796\n",
      "7    1893        0.949799\n",
      "8    2076        0.809828\n",
      "9    1949        0.809801\n",
      "\n",
      "Худшие 10 гексагонов:\n",
      "   hex_id  high_dev_proba\n",
      "0       0             0.0\n",
      "1       1             0.0\n",
      "2       2             0.0\n",
      "3       3             0.0\n",
      "4       4             0.0\n",
      "5       5             0.0\n",
      "6       6             0.0\n",
      "7       7             0.0\n",
      "8       8             0.0\n",
      "9       9             0.0\n",
      "\n",
      "Важность признаков:\n",
      "log_count_education    0.290013\n",
      "log_count_zdrav        0.290009\n",
      "log_population         0.270008\n",
      "log_count_tourism      0.129968\n",
      "log_count_buildings    0.020002\n",
      "dtype: float64\n",
      "\n",
      "Отчет о классификации на тестовых данных:\n",
      "              precision    recall  f1-score   support\n",
      "\n",
      "           0       1.00      1.00      1.00      2271\n",
      "           1       0.75      1.00      0.86         3\n",
      "\n",
      "    accuracy                           1.00      2274\n",
      "   macro avg       0.88      1.00      0.93      2274\n",
      "weighted avg       1.00      1.00      1.00      2274\n",
      "\n",
      "OOB-оценка: 0.9997\n"
     ]
    },
    {
     "name": "stderr",
     "output_type": "stream",
     "text": [
      "C:\\Users\\smirn\\AppData\\Local\\Temp\\ipykernel_5336\\482800702.py:48: UserWarning: Legend does not support handles for PatchCollection instances.\n",
      "See: https://matplotlib.org/stable/tutorials/intermediate/legend_guide.html#implementing-a-custom-legend-handler\n",
      "  plt.legend(title='Категории', loc='lower right')\n",
      "C:\\Users\\smirn\\AppData\\Local\\Temp\\ipykernel_5336\\482800702.py:48: UserWarning: No artists with labels found to put in legend.  Note that artists whose label start with an underscore are ignored when legend() is called with no argument.\n",
      "  plt.legend(title='Категории', loc='lower right')\n"
     ]
    },
    {
     "name": "stdout",
     "output_type": "stream",
     "text": [
      "Все графики и результаты сохранены в файл 'результаты_анализа.pdf'\n"
     ]
    }
   ],
   "source": [
    "from matplotlib.backends.backend_pdf import PdfPages\n",
    "import matplotlib.pyplot as plt\n",
    "from matplotlib.colors import LinearSegmentedColormap\n",
    "import pandas as pd\n",
    "from sklearn.metrics import classification_report\n",
    "\n",
    "# Сначала выполняем все расчеты и создаем переменные\n",
    "print(\"\\nТоп-10 гексагонов:\")\n",
    "top_10_sorted = top_10[['hex_id', 'high_dev_proba']].sort_values('high_dev_proba', ascending=False).reset_index(drop=True)\n",
    "print(top_10_sorted)\n",
    "\n",
    "print(\"\\nХудшие 10 гексагонов:\")\n",
    "bottom_10_sorted = bottom_10[['hex_id', 'high_dev_proba']].sort_values('high_dev_proba').reset_index(drop=True)\n",
    "print(bottom_10_sorted)\n",
    "\n",
    "# Создаем feature_importances\n",
    "feature_importances = pd.Series(best_model.feature_importances_, index=log_features)\n",
    "feature_importances = feature_importances.sort_values(ascending=False)\n",
    "print(\"\\nВажность признаков:\")\n",
    "print(feature_importances)\n",
    "\n",
    "print(\"\\nОтчет о классификации на тестовых данных:\")\n",
    "class_report = classification_report(y_test, best_model.predict(X_test))\n",
    "print(class_report)\n",
    "print(f\"OOB-оценка: {best_model.oob_score_:.4f}\")\n",
    "\n",
    "# Теперь создаем PDF с графиками\n",
    "with PdfPages('результаты_анализа.pdf') as pdf:\n",
    "    \n",
    "    # Первый график - карта регионов\n",
    "    fig1, ax1 = plt.subplots(1, 1, figsize=(15, 10))\n",
    "    \n",
    "    colors = {'bottom': 'red', 'medium': 'yellow', 'top': 'green'}\n",
    "    cmap = LinearSegmentedColormap.from_list('dev_cmap', ['red', 'yellow', 'green'])\n",
    "    \n",
    "    data_ml.plot(column='high_dev_proba',\n",
    "                 ax=ax1,\n",
    "                 cmap=cmap,\n",
    "                 legend=True,\n",
    "                 legend_kwds={'label': \"Вероятность развитости\", 'shrink': 0.7},\n",
    "                 alpha=0.7)\n",
    "    \n",
    "    top_10.plot(ax=ax1, color='green', edgecolor='black', linewidth=1.5, label='Топ-10')\n",
    "    bottom_10.plot(ax=ax1, color='red', edgecolor='black', linewidth=1.5, label='Худшие 10')\n",
    "    \n",
    "    plt.title('Уровень развития регионов (Random Forest)', fontsize=16)\n",
    "    plt.axis('off')\n",
    "    plt.legend(title='Категории', loc='lower right')\n",
    "    plt.tight_layout()\n",
    "    \n",
    "    # Сохраняем первый график в PDF\n",
    "    pdf.savefig(fig1, bbox_inches='tight')\n",
    "    plt.close(fig1)\n",
    "    \n",
    "    # Второй график - важность признаков\n",
    "    fig2, ax2 = plt.subplots(figsize=(12, 8))\n",
    "    feature_importances.plot(kind='bar', ax=ax2)\n",
    "    plt.title('Важность признаков в модели Random Forest', fontsize=16)\n",
    "    plt.ylabel('Важность', fontsize=12)\n",
    "    plt.xlabel('Признаки', fontsize=12)\n",
    "    plt.xticks(rotation=45, ha='right')\n",
    "    plt.tight_layout()\n",
    "    \n",
    "    # Сохраняем второй график в PDF\n",
    "    pdf.savefig(fig2, bbox_inches='tight')\n",
    "    plt.close(fig2)\n",
    "    \n",
    "    # Третья страница - текстовые результаты\n",
    "    fig3 = plt.figure(figsize=(10, 12))\n",
    "    plt.axis('off')\n",
    "    \n",
    "    # Подготавливаем текст\n",
    "    text_content = []\n",
    "    \n",
    "    text_content.append(\"ТОП-10 ГЕКСАГОНОВ:\")\n",
    "    text_content.append(top_10_sorted.to_string())\n",
    "    text_content.append(\"\\n\" + \"=\"*50 + \"\\n\")\n",
    "    \n",
    "    text_content.append(\"ХУДШИЕ 10 ГЕКСАГОНОВ:\")\n",
    "    text_content.append(bottom_10_sorted.to_string())\n",
    "    text_content.append(\"\\n\" + \"=\"*50 + \"\\n\")\n",
    "    \n",
    "    text_content.append(\"ВАЖНОСТЬ ПРИЗНАКОВ:\")\n",
    "    text_content.append(feature_importances.to_string())\n",
    "    text_content.append(\"\\n\" + \"=\"*50 + \"\\n\")\n",
    "    \n",
    "    text_content.append(\"ОТЧЕТ О КЛАССИФИКАЦИИ:\")\n",
    "    text_content.append(class_report)\n",
    "    text_content.append(f\"\\nOOB-оценка: {best_model.oob_score_:.4f}\")\n",
    "    \n",
    "    # Объединяем весь текст\n",
    "    full_text = \"\\n\".join(text_content)\n",
    "    \n",
    "    # Добавляем текст на страницу\n",
    "    plt.figtext(0.05, 0.95, full_text, fontfamily='monospace', \n",
    "                fontsize=8, verticalalignment='top')\n",
    "    plt.title('Результаты анализа', fontsize=16, pad=20)\n",
    "    plt.tight_layout()\n",
    "    \n",
    "    # Сохраняем текстовую страницу\n",
    "    pdf.savefig(fig3, bbox_inches='tight')\n",
    "    plt.close(fig3)\n",
    "    \n",
    "    # Добавляем метаданные\n",
    "    pdf_info = pdf.infodict()\n",
    "    pdf_info['Title'] = 'Анализ развития регионов'\n",
    "    pdf_info['Author'] = 'Аналитик'\n",
    "    pdf_info['Subject'] = 'Результаты Random Forest модели'\n",
    "    pdf_info['Keywords'] = 'регионы, machine learning, анализ'\n",
    "\n",
    "print(\"Все графики и результаты сохранены в файл 'результаты_анализа.pdf'\")"
   ]
  },
  {
   "cell_type": "code",
   "execution_count": 37,
   "metadata": {
    "id": "jxyny7pjMLUL"
   },
   "outputs": [],
   "source": [
    "A= data_ml.to_crs(4326)"
   ]
  },
  {
   "cell_type": "code",
   "execution_count": 38,
   "metadata": {},
   "outputs": [],
   "source": [
    "region_union = region_wgs.geometry.union_all()\n",
    "\n",
    "cities_in_region = all_cities[all_cities.geometry.within(region_union)]\n",
    "villages_in_region = all_villages[all_villages.geometry.within(region_union)]\n",
    "\n",
    "centroid = region_union.centroid\n",
    "\n",
    "centroid_wgs = gpd.GeoSeries([centroid], crs=region_wgs.crs).to_crs(epsg=4326).iloc[0]"
   ]
  },
  {
   "cell_type": "code",
   "execution_count": 39,
   "metadata": {
    "id": "7BehvuZkML_n"
   },
   "outputs": [],
   "source": [
    "def choose_color(row):\n",
    "    color_dict = {\n",
    "        \"bottom\": \"red\",\n",
    "        \"medium\": \"yellow\",\n",
    "        \"top\": \"green\",\n",
    "    }\n",
    "    return color_dict.get(row.get(\"dev_category\"))\n",
    "\n",
    "m1 = folium.Map(location=[centroid_wgs.y, centroid_wgs.x], zoom_start=5, tiles=\"OpenStreetMap\")\n",
    "\n",
    "folium.GeoJson(\n",
    "    region_wgs,\n",
    "    style_function=lambda x: {\n",
    "        'fillColor': 'white',\n",
    "        'color': 'black',\n",
    "        'weight': 1,\n",
    "        'fillOpacity': 0.05\n",
    "    }\n",
    ").add_to(m1)\n",
    "\n",
    "def style_function(feature, fill_color):\n",
    "    return {\n",
    "        'fillColor': fill_color,\n",
    "        'color': 'black',\n",
    "        'weight': 0.5,\n",
    "        'fillOpacity': 0.7\n",
    "    }\n",
    "\n",
    "for _, row in A.iterrows():\n",
    "    fill_color = choose_color(row)\n",
    "    sf = partial(style_function, fill_color=fill_color)\n",
    "\n",
    "    folium.GeoJson(\n",
    "        row[\"geometry\"],\n",
    "        style_function=sf,\n",
    "        highlight_function=lambda feature: {\n",
    "            'color': 'red',\n",
    "            'weight': 2,\n",
    "            'fillOpacity': 0.7\n",
    "        }\n",
    "    ).add_to(m1)"
   ]
  },
  {
   "cell_type": "code",
   "execution_count": 40,
   "metadata": {
    "colab": {
     "base_uri": "https://localhost:8080/",
     "height": 961
    },
    "id": "ovVdCtN3MSUv",
    "outputId": "3c07a22f-0806-4488-ad93-c84b53777f37"
   },
   "outputs": [
    {
     "name": "stdout",
     "output_type": "stream",
     "text": [
      "HTML файл сохранен: карта_с_легендой.html\n"
     ]
    }
   ],
   "source": [
    "from IPython.display import HTML\n",
    "import folium\n",
    "\n",
    "# Создаем HTML с картой и легендой\n",
    "html_content = f\"\"\"\n",
    "<!DOCTYPE html>\n",
    "<html>\n",
    "<head>\n",
    "    <meta charset=\"utf-8\">\n",
    "    <title>Карта регионов</title>\n",
    "    <style>\n",
    "        body {{ font-family: Arial, sans-serif; margin: 20px; }}\n",
    "        .legend {{\n",
    "            font-size: 14px;\n",
    "            padding: 10px;\n",
    "            max-width: 400px;\n",
    "            margin: 10px 0;\n",
    "            border: 1px solid #ccc;\n",
    "            background: white;\n",
    "        }}\n",
    "        .map-container {{ margin-bottom: 20px; }}\n",
    "    </style>\n",
    "</head>\n",
    "<body>\n",
    "    <h1>Уровень развития регионов</h1>\n",
    "    \n",
    "    <div class=\"map-container\">\n",
    "        {m1._repr_html_()}\n",
    "    </div>\n",
    "    \n",
    "    <div class=\"legend\">\n",
    "        <b>Легенда:</b><br>\n",
    "        <span style=\"color: red;\">&#9632;</span> bottom<br>\n",
    "        <span style=\"color: yellow;\">&#9632;</span> medium<br>\n",
    "        <span style=\"color: green;\">&#9632;</span> top<br>\n",
    "    </div>\n",
    "</body>\n",
    "</html>\n",
    "\"\"\"\n",
    "\n",
    "# Сохраняем в файл\n",
    "with open('карта_с_легендой.html', 'w', encoding='utf-8') as f:\n",
    "    f.write(html_content)\n",
    "\n",
    "print(\"HTML файл сохранен: карта_с_легендой.html\")"
   ]
  },
  {
   "cell_type": "markdown",
   "metadata": {
    "id": "rBu7qoPFOT_q"
   },
   "source": [
    "##Шаг 3"
   ]
  },
  {
   "cell_type": "markdown",
   "metadata": {
    "id": "AqoJxL4uOKEH"
   },
   "source": [
    "#Итоговая визуализация гексагонов"
   ]
  },
  {
   "cell_type": "code",
   "execution_count": 41,
   "metadata": {
    "id": "sLoaM-TkR1lf"
   },
   "outputs": [],
   "source": [
    "hex_grid_combined[\"tooltip_text\"] = (\n",
    "    \"Население: \" + hex_grid_combined[\"population\"].astype(str) + \"<br>\" +\n",
    "    \"Образование: \" + hex_grid_combined[\"count_education\"].astype(str) + \"<br>\" +\n",
    "    \"Туризм: \" + hex_grid_combined[\"count_tourism\"].astype(str) + \"<br>\" +\n",
    "    \"Здравоохранение: \" + hex_grid_combined[\"count_zdrav\"].astype(str) + \"<br>\" +\n",
    "    \"Жилые дома: \" + hex_grid_combined[\"count_buildings\"].astype(str)\n",
    ")\n",
    "\n",
    "hex_grid_wgs = hex_grid_combined.to_crs(4326)"
   ]
  },
  {
   "cell_type": "markdown",
   "metadata": {
    "id": "631zRnx7TLVC"
   },
   "source": [
    "Выделим разными цветами распределение мест в гексагонах"
   ]
  },
  {
   "cell_type": "code",
   "execution_count": 42,
   "metadata": {
    "id": "IeJtPUMXSjyo"
   },
   "outputs": [],
   "source": [
    "def categorize_hex(row):\n",
    "    educations = row[\"count_education\"] > 0\n",
    "    tourists = row[\"count_tourism\"] > 0\n",
    "    clinics = row[\"count_zdrav\"] > 0\n",
    "    buildings = row[\"count_buildings\"] > 0\n",
    "\n",
    "    if not (educations or tourists or clinics or buildings):\n",
    "        return 'lightblue'       # нет объектов\n",
    "    if educations and not tourists and not clinics and not buildings:\n",
    "        return 'green'           # только объекты образования\n",
    "    if tourists and not educations and not clinics and not buildings:\n",
    "        return 'orange'          # только объекты туризма\n",
    "    if clinics and not educations and not tourists and not buildings:\n",
    "        return 'purple'          # только медучреждения\n",
    "    if buildings and not educations and not tourists and not clinics:\n",
    "        return 'darkgreen'          # только жилые постройки\n",
    "\n",
    "    if buildings and educations and not tourists and not clinics:\n",
    "        return 'fuchsia'          # жилые постройки и объекты образования\n",
    "    if buildings and tourists and not clinics and not educations:\n",
    "        return 'yellow'          # объекты туризма и жилые дома\n",
    "    if buildings and clinics and not tourists and not educations:\n",
    "        return '\tolive'          # медучреждения и жилые дома\n",
    "    if educations and tourists and not clinics and not buildings:\n",
    "        return 'limegreen'          # объекты образования и туризма\n",
    "    if educations and clinics and not tourists and not buildings:\n",
    "        return 'turquoise'       # объекты образования и медучреждения\n",
    "    if tourists and clinics and not educations and not buildings:\n",
    "        return 'red'             # объекты туризма и медучреждения\n",
    "\n",
    "    if educations and tourists and clinics and not buildings:\n",
    "        return 'mediumpurple'         # образование, туризм и медицина\n",
    "    if educations and tourists and buildings and not clinics:\n",
    "        return 'gold'            # образование, туризм и жилые\n",
    "    if educations and clinics and buildings and not tourists:\n",
    "        return 'mediumturquoise' # образование, медицина и жилые\n",
    "    if tourists and clinics and buildings and not educations:\n",
    "        return 'darkorange'      # туризм, медицина и жилые\n",
    "    if educations and tourists and clinics and buildings:\n",
    "        return 'darkred'         # все четыре\n"
   ]
  },
  {
   "cell_type": "code",
   "execution_count": 43,
   "metadata": {
    "id": "SF3c7AL9Sj2U"
   },
   "outputs": [],
   "source": [
    "region_union = region_wgs.geometry.union_all()\n",
    "\n",
    "cities_in_region = all_cities[all_cities.geometry.within(region_union)]\n",
    "villages_in_region = all_villages[all_villages.geometry.within(region_union)]\n",
    "\n",
    "centroid = region_union.centroid\n",
    "\n",
    "centroid_wgs = gpd.GeoSeries([centroid], crs=region_wgs.crs).to_crs(epsg=4326).iloc[0]"
   ]
  },
  {
   "cell_type": "code",
   "execution_count": 44,
   "metadata": {
    "id": "R5gN6wZbxjvF"
   },
   "outputs": [],
   "source": [
    "m = folium.Map(location=[centroid_wgs.y, centroid_wgs.x], zoom_start=5, tiles=\"OpenStreetMap\")\n",
    "\n",
    "folium.GeoJson(region_wgs, style_function=lambda x: {\n",
    "    'fillColor': 'white',\n",
    "    'color': 'black',\n",
    "    'weight': 1,\n",
    "    'fillOpacity': 0.05\n",
    "}).add_to(m)\n",
    "\n",
    "for _, row in hex_grid_wgs.iterrows():\n",
    "    fill_color = categorize_hex(row)\n",
    "    folium.GeoJson(row[\"geometry\"], style_function=lambda x, fc=fill_color: {\n",
    "            'fillColor': fc,\n",
    "            'color': 'black',\n",
    "            'weight': 0.5,\n",
    "            'fillOpacity': 0.7\n",
    "        },\n",
    "\n",
    "        highlight_function=lambda feature: {\n",
    "            'color': 'red',\n",
    "            'weight': 2,\n",
    "            'fillOpacity': 0.7\n",
    "        },\n",
    "\n",
    "        tooltip=folium.Tooltip(row[\"tooltip_text\"], sticky=True)\n",
    "    ).add_to(m)\n",
    "\n",
    "for _, row in cities_in_region.iterrows():\n",
    "    point = row.geometry.representative_point()\n",
    "    folium.CircleMarker(\n",
    "        location=[point.y, point.x],\n",
    "        radius=4,\n",
    "        color='red',\n",
    "        fill=True,\n",
    "        fill_color='red',\n",
    "        fill_opacity=0.9,\n",
    "        popup=row[name_col]\n",
    "    ).add_to(m)\n",
    "for _, row in villages_in_region.iterrows():\n",
    "    point = row.geometry.representative_point()\n",
    "    folium.CircleMarker(\n",
    "        location=[point.y, point.x],\n",
    "        radius=2.8,\n",
    "        color='black',\n",
    "        fill=True,\n",
    "        fill_color='black',\n",
    "        fill_opacity=0.8,\n",
    "        popup=row[name_col]\n",
    "    ).add_to(m)\n",
    "\n"
   ]
  },
  {
   "cell_type": "code",
   "execution_count": 45,
   "metadata": {},
   "outputs": [
    {
     "name": "stdout",
     "output_type": "stream",
     "text": [
      "Интерактивная карта сохранена: карта_инфраструктуры_с_легендой.html\n"
     ]
    }
   ],
   "source": [
    "import folium\n",
    "from IPython.display import HTML\n",
    "import os\n",
    "\n",
    "# Создаем полный HTML файл с картой и легендой\n",
    "full_html = f\"\"\"\n",
    "<!DOCTYPE html>\n",
    "<html>\n",
    "<head>\n",
    "    <meta charset=\"utf-8\">\n",
    "    <title>Карта объектов инфраструктуры</title>\n",
    "    <style>\n",
    "        body {{\n",
    "            font-family: Arial, sans-serif;\n",
    "            margin: 20px;\n",
    "            background-color: #f5f5f5;\n",
    "        }}\n",
    "        .container {{\n",
    "            display: flex;\n",
    "            gap: 20px;\n",
    "            flex-wrap: wrap;\n",
    "        }}\n",
    "        .map-container {{\n",
    "            flex: 1;\n",
    "            min-width: 600px;\n",
    "            height: 800px;\n",
    "            border: 1px solid #ccc;\n",
    "            background: white;\n",
    "        }}\n",
    "        .legend-container {{\n",
    "            flex: 0 0 400px;\n",
    "            background: white;\n",
    "            padding: 15px;\n",
    "            border: 1px solid #ccc;\n",
    "            border-radius: 5px;\n",
    "            height: fit-content;\n",
    "        }}\n",
    "        h1 {{\n",
    "            color: #333;\n",
    "            margin-bottom: 20px;\n",
    "        }}\n",
    "        .legend-item {{\n",
    "            margin: 5px 0;\n",
    "            line-height: 1.4;\n",
    "        }}\n",
    "        .section-title {{\n",
    "            font-weight: bold;\n",
    "            margin-top: 15px;\n",
    "            margin-bottom: 5px;\n",
    "            color: #333;\n",
    "            border-bottom: 1px solid #eee;\n",
    "            padding-bottom: 3px;\n",
    "        }}\n",
    "    </style>\n",
    "</head>\n",
    "<body>\n",
    "    <h1>Карта объектов инфраструктуры</h1>\n",
    "    \n",
    "    <div class=\"container\">\n",
    "        <div class=\"map-container\">\n",
    "            {m._repr_html_()}\n",
    "        </div>\n",
    "        \n",
    "        <div class=\"legend-container\">\n",
    "            <div class=\"section-title\">Типы объектов:</div>\n",
    "            <div class=\"legend-item\"><span style=\"color: lightblue;\">■</span> Нет объектов</div>\n",
    "            <div class=\"legend-item\"><span style=\"color: green;\">■</span> Только образовательные учреждения</div>\n",
    "            <div class=\"legend-item\"><span style=\"color: orange;\">■</span> Только объекты туризма</div>\n",
    "            <div class=\"legend-item\"><span style=\"color: purple;\">■</span> Только медучреждения</div>\n",
    "            <div class=\"legend-item\"><span style=\"color: darkgreen;\">■</span> Только жилые постройки</div>\n",
    "            <div class=\"legend-item\"><span style=\"color: fuchsia;\">■</span> Жилые постройки и объекты образование</div>\n",
    "            <div class=\"legend-item\"><span style=\"color: yellow;\">■</span> Объекты туризма и жилые дома</div>\n",
    "            <div class=\"legend-item\"><span style=\"color: olive;\">■</span> Медучреждения и жилые дома</div>\n",
    "            <div class=\"legend-item\"><span style=\"color: limegreen;\">■</span> Объекты образования и туризма</div>\n",
    "            <div class=\"legend-item\"><span style=\"color: turquoise;\">■</span> Объекты образования и медицины</div>\n",
    "            <div class=\"legend-item\"><span style=\"color: red;\">■</span> Объекты туризма и медицины</div>\n",
    "            <div class=\"legend-item\"><span style=\"color: mediumturquoise;\">■</span> Объекты образование, медицины и жилые дома</div>\n",
    "            <div class=\"legend-item\"><span style=\"color: darkorange;\">■</span> Объекты туризма, медицины и жилые дома</div>\n",
    "            <div class=\"legend-item\"><span style=\"color: gold;\">■</span> Объекты образования, туризма и жилые дома</div>\n",
    "            <div class=\"legend-item\"><span style=\"color: darkred;\">■</span> Все четыре</div>\n",
    "            \n",
    "            <div class=\"section-title\">Населённые пункты:</div>\n",
    "            <div class=\"legend-item\"><span style=\"color: red;\">●</span> Город</div>\n",
    "            <div class=\"legend-item\"><span style=\"color: black;\">●</span> Село / деревня</div>\n",
    "        </div>\n",
    "    </div>\n",
    "</body>\n",
    "</html>\n",
    "\"\"\"\n",
    "\n",
    "# Сохраняем в файл\n",
    "with open('карта_инфраструктуры_с_легендой.html', 'w', encoding='utf-8') as f:\n",
    "    f.write(full_html)\n",
    "\n",
    "print(\"Интерактивная карта сохранена: карта_инфраструктуры_с_легендой.html\")"
   ]
  },
  {
   "cell_type": "code",
   "execution_count": null,
   "metadata": {},
   "outputs": [],
   "source": []
  },
  {
   "cell_type": "code",
   "execution_count": null,
   "metadata": {},
   "outputs": [],
   "source": []
  }
 ],
 "metadata": {
  "colab": {
   "collapsed_sections": [
    "XLrUTrpBMKvw",
    "inoC3ijv-Lr5"
   ],
   "provenance": []
  },
  "kernelspec": {
   "display_name": "base",
   "language": "python",
   "name": "python3"
  },
  "language_info": {
   "codemirror_mode": {
    "name": "ipython",
    "version": 3
   },
   "file_extension": ".py",
   "mimetype": "text/x-python",
   "name": "python",
   "nbconvert_exporter": "python",
   "pygments_lexer": "ipython3",
   "version": "3.12.4"
  }
 },
 "nbformat": 4,
 "nbformat_minor": 4
}
